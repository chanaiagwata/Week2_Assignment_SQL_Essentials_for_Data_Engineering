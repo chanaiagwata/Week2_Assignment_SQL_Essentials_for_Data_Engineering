{
 "cells": [
  {
   "cell_type": "code",
   "execution_count": null,
   "id": "876e3447",
   "metadata": {},
   "outputs": [],
   "source": [
    "mongo_db= ''"
   ]
  },
  {
   "cell_type": "code",
   "execution_count": 20,
   "id": "67c69b52",
   "metadata": {},
   "outputs": [],
   "source": [
    "import requests\n",
    "from pymongo import MongoClient\n",
    "from sqlalchemy import create_engine\n",
    "import pandas as pd"
   ]
  },
  {
   "cell_type": "code",
   "execution_count": 49,
   "id": "7d898dc7",
   "metadata": {},
   "outputs": [],
   "source": [
    "url = 'https://api.binance.com/api/v3/ticker/price?symbol=BTCUSDT'"
   ]
  },
  {
   "cell_type": "code",
   "execution_count": 50,
   "id": "12fb0193",
   "metadata": {},
   "outputs": [],
   "source": [
    "response = requests.get(url)"
   ]
  },
  {
   "cell_type": "code",
   "execution_count": 51,
   "id": "79fe44c2",
   "metadata": {},
   "outputs": [
    {
     "data": {
      "text/plain": [
       "{'symbol': 'BTCUSDT', 'price': '109047.47000000'}"
      ]
     },
     "execution_count": 51,
     "metadata": {},
     "output_type": "execute_result"
    }
   ],
   "source": [
    "data = response.json()\n",
    "data"
   ]
  },
  {
   "cell_type": "markdown",
   "id": "2398de47",
   "metadata": {},
   "source": [
    "**LOADING...**"
   ]
  },
  {
   "cell_type": "code",
   "execution_count": null,
   "id": "5019ac53",
   "metadata": {},
   "outputs": [],
   "source": [
    "mongo_db= ''"
   ]
  },
  {
   "cell_type": "code",
   "execution_count": 53,
   "id": "c5f72623",
   "metadata": {},
   "outputs": [],
   "source": [
    "client = MongoClient(mongo_db)"
   ]
  },
  {
   "cell_type": "code",
   "execution_count": 55,
   "id": "bb35d061",
   "metadata": {},
   "outputs": [],
   "source": [
    "# Create Database\n",
    "db = client.crypto_db\n",
    "collection = db.crypto_prices\n",
    "\n",
    "\n",
    "\n"
   ]
  },
  {
   "cell_type": "code",
   "execution_count": 56,
   "id": "aba97463",
   "metadata": {},
   "outputs": [
    {
     "data": {
      "text/plain": [
       "InsertOneResult(ObjectId('68b4b83c1f9c884b9349a3bf'), acknowledged=True)"
      ]
     },
     "execution_count": 56,
     "metadata": {},
     "output_type": "execute_result"
    }
   ],
   "source": [
    "# Loading\n",
    "collection.insert_one(data)\n"
   ]
  },
  {
   "cell_type": "markdown",
   "id": "9bb0a807",
   "metadata": {},
   "source": [
    "**TRANSFORMING..**"
   ]
  },
  {
   "cell_type": "code",
   "execution_count": 58,
   "id": "bd40d37e",
   "metadata": {},
   "outputs": [],
   "source": [
    "cursor = collection.find({})\n",
    "df = pd.DataFrame(list(cursor))"
   ]
  },
  {
   "cell_type": "code",
   "execution_count": 59,
   "id": "edf090f9",
   "metadata": {},
   "outputs": [
    {
     "data": {
      "text/html": [
       "<div>\n",
       "<style scoped>\n",
       "    .dataframe tbody tr th:only-of-type {\n",
       "        vertical-align: middle;\n",
       "    }\n",
       "\n",
       "    .dataframe tbody tr th {\n",
       "        vertical-align: top;\n",
       "    }\n",
       "\n",
       "    .dataframe thead th {\n",
       "        text-align: right;\n",
       "    }\n",
       "</style>\n",
       "<table border=\"1\" class=\"dataframe\">\n",
       "  <thead>\n",
       "    <tr style=\"text-align: right;\">\n",
       "      <th></th>\n",
       "      <th>_id</th>\n",
       "      <th>symbol</th>\n",
       "      <th>price</th>\n",
       "    </tr>\n",
       "  </thead>\n",
       "  <tbody>\n",
       "    <tr>\n",
       "      <th>0</th>\n",
       "      <td>68b4b1b41f9c884b9349a3bb</td>\n",
       "      <td>BTCUSDT</td>\n",
       "      <td>109024.64000000</td>\n",
       "    </tr>\n",
       "    <tr>\n",
       "      <th>1</th>\n",
       "      <td>68b4b83c1f9c884b9349a3bf</td>\n",
       "      <td>BTCUSDT</td>\n",
       "      <td>109047.47000000</td>\n",
       "    </tr>\n",
       "  </tbody>\n",
       "</table>\n",
       "</div>"
      ],
      "text/plain": [
       "                        _id   symbol            price\n",
       "0  68b4b1b41f9c884b9349a3bb  BTCUSDT  109024.64000000\n",
       "1  68b4b83c1f9c884b9349a3bf  BTCUSDT  109047.47000000"
      ]
     },
     "execution_count": 59,
     "metadata": {},
     "output_type": "execute_result"
    }
   ],
   "source": [
    "df"
   ]
  }
 ],
 "metadata": {
  "kernelspec": {
   "display_name": "Python 3",
   "language": "python",
   "name": "python3"
  },
  "language_info": {
   "codemirror_mode": {
    "name": "ipython",
    "version": 3
   },
   "file_extension": ".py",
   "mimetype": "text/x-python",
   "name": "python",
   "nbconvert_exporter": "python",
   "pygments_lexer": "ipython3",
   "version": "3.13.5"
  }
 },
 "nbformat": 4,
 "nbformat_minor": 5
}
