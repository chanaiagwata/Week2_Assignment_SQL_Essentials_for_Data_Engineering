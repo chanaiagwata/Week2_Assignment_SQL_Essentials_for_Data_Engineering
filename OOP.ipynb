import requests

api = "https://api.binance.com/api/v3/ticker/price?symbol=ETHUSDT"

response = requests.get(api)

data = response.json()

print(data)
